{
 "cells": [
  {
   "cell_type": "markdown",
   "id": "23a0800a-08e3-407b-a3a2-38f00aa5aba4",
   "metadata": {},
   "source": [
    "# EQness EEG lab\n",
    "\n",
    "EEG system:\n",
    "- Ultracortex\n",
    "- 16 EEG channels\n",
    "- 3 Accelerator channels"
   ]
  },
  {
   "cell_type": "code",
   "execution_count": null,
   "id": "71512839-d98f-4000-bbb7-91273f8ecfe6",
   "metadata": {},
   "outputs": [],
   "source": [
    "import mne\n",
    "from mne.preprocessing import ICA"
   ]
  },
  {
   "cell_type": "code",
   "execution_count": null,
   "id": "f620df19-d1d7-4002-88f1-09c9725af040",
   "metadata": {},
   "outputs": [],
   "source": [
    "cytondaisy_montage = ['Fp1', 'Fp2', 'C3', 'C4', 'T5', 'T6', 'O1', 'O2', 'F7', 'F8', 'F3', 'F4', 'T3', 'T4', 'P3', 'P4']\n",
    "mapping = { f'EEG {i+1:d}' : ch for i, ch in enumerate(cytondaisy_montage) }\n",
    "print(\"mapping:\\n\", mapping)"
   ]
  },
  {
   "cell_type": "code",
   "execution_count": null,
   "id": "e5d8bd75-d3e7-4361-91f1-93bf0e92f01d",
   "metadata": {},
   "outputs": [],
   "source": [
    "f = \"./data/OpenBCI-BDF-2024-08-30_16-19-18.bdf\"\n",
    "raw = mne.io.read_raw_bdf(f, preload=True, verbose=False)\n",
    "print(raw.info)\n",
    "print(\"[+] All channels in recording:\")\n",
    "raw.drop_channels(['Accel X', 'Accel Y', 'Accel Z'])\n",
    "print(\"\\n[+] After removing Acceleration channels\")\n",
    "mne.rename_channels(raw.info, mapping)\n",
    "montage=mne.channels.make_standard_montage(\"standard_1020\") # standard_1005\n",
    "raw.set_montage(montage, verbose=False)\n",
    "# frequency boundaries\n",
    "freq_lo = 1\n",
    "freq_hi = 25\n",
    "raw.filter(l_freq=freq_lo, h_freq=freq_hi, verbose=False)\n",
    "raw.plot()"
   ]
  },
  {
   "cell_type": "markdown",
   "id": "600c0ed9-7c4c-424d-89b3-057cedbcb321",
   "metadata": {},
   "source": [
    "### Select data segment"
   ]
  },
  {
   "cell_type": "code",
   "execution_count": null,
   "id": "4fc14086-e750-4477-afbf-d0ee50dd6d50",
   "metadata": {},
   "outputs": [],
   "source": [
    "t0, t1 = 1167, 1296\n",
    "print(f\"Segment length: {(t1-t0)/60:.1f} min\")\n",
    "raw_segment = raw.copy().crop(tmin=t0, tmax=t1)"
   ]
  },
  {
   "cell_type": "code",
   "execution_count": null,
   "id": "d35c0dd8-60c0-40e3-91d9-f587dfbca656",
   "metadata": {},
   "outputs": [],
   "source": [
    "raw_segment.compute_psd(fmin=freq_lo, fmax=freq_hi).plot()"
   ]
  },
  {
   "cell_type": "markdown",
   "id": "f3dac614-271f-4b19-a328-f880474fcc41",
   "metadata": {},
   "source": [
    "### ICA artefact correction"
   ]
  },
  {
   "cell_type": "code",
   "execution_count": null,
   "id": "d6fdac18-7fe8-4684-876d-072ca6811e0a",
   "metadata": {},
   "outputs": [],
   "source": [
    "%matplotlib qt\n",
    "ica_segment = ICA(n_components=12, max_iter=\"auto\", random_state=97)\n",
    "ica_segment.fit(raw_segment)\n",
    "ica_segment.plot_sources(raw_segment, show_scrollbars=False)\n",
    "ica_segment.plot_properties(raw_segment)"
   ]
  },
  {
   "cell_type": "code",
   "execution_count": null,
   "id": "2e232799-0ba2-48c1-9daa-d549e56b6e57",
   "metadata": {},
   "outputs": [],
   "source": [
    "raw_segment_recon = raw_segment.copy()\n",
    "ica_segment.apply(raw_segment_recon)\n",
    "raw_segment_recon.plot()"
   ]
  }
 ],
 "metadata": {
  "kernelspec": {
   "display_name": "mne",
   "language": "python",
   "name": "mne"
  },
  "language_info": {
   "codemirror_mode": {
    "name": "ipython",
    "version": 3
   },
   "file_extension": ".py",
   "mimetype": "text/x-python",
   "name": "python",
   "nbconvert_exporter": "python",
   "pygments_lexer": "ipython3",
   "version": "3.12.2"
  }
 },
 "nbformat": 4,
 "nbformat_minor": 5
}
